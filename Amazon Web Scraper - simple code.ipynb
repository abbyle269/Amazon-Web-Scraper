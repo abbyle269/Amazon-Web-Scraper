{
 "cells": [
  {
   "cell_type": "code",
   "execution_count": 1,
   "id": "0face993",
   "metadata": {},
   "outputs": [],
   "source": [
    "from bs4 import BeautifulSoup\n",
    "import requests\n",
    "import smtplib\n",
    "import time\n",
    "import datetime\n",
    "import pandas as pd"
   ]
  },
  {
   "cell_type": "code",
   "execution_count": 2,
   "id": "920d1403",
   "metadata": {},
   "outputs": [],
   "source": [
    "# scrape data from one specific link from Amazon\n",
    "\n",
    "# connect to website\n",
    "url_one_product = 'https://www.amazon.co.uk/Baileys-Strawberries-Cream-Liqueur-Limited/dp/B07DHQ2GR2/ref=sr_1_15?crid=36T8Q10WTN7GS&keywords=bailey&qid=1682418024&sprefix=bailey%2Caps%2C111&sr=8-15'\n",
    "# every computer has its unique user agent, can find it from here https://httpbin.org/get\n",
    "headers = {'User-Agent':'Mozilla/5.0 (Windows NT 10.0; Win64; x64) AppleWebKit/537.36 (KHTML, like Gecko) Chrome/112.0.0.0 Safari/537.36'}\n",
    "page = requests.get(url_one_product, headers= headers)\n",
    "\n",
    "# connect content from Amazon\n",
    "soup1 = BeautifulSoup(page.content,'html.parser')\n",
    "soup2 = BeautifulSoup(soup1.prettify(),'html.parser')"
   ]
  },
  {
   "cell_type": "code",
   "execution_count": 3,
   "id": "739afca9",
   "metadata": {},
   "outputs": [
    {
     "data": {
      "text/html": [
       "<div>\n",
       "<style scoped>\n",
       "    .dataframe tbody tr th:only-of-type {\n",
       "        vertical-align: middle;\n",
       "    }\n",
       "\n",
       "    .dataframe tbody tr th {\n",
       "        vertical-align: top;\n",
       "    }\n",
       "\n",
       "    .dataframe thead th {\n",
       "        text-align: right;\n",
       "    }\n",
       "</style>\n",
       "<table border=\"1\" class=\"dataframe\">\n",
       "  <thead>\n",
       "    <tr style=\"text-align: right;\">\n",
       "      <th></th>\n",
       "      <th>product_name</th>\n",
       "      <th>currency</th>\n",
       "      <th>price</th>\n",
       "    </tr>\n",
       "  </thead>\n",
       "  <tbody>\n",
       "    <tr>\n",
       "      <th>0</th>\n",
       "      <td>Baileys Strawberries and Cream Liqueur 70cl</td>\n",
       "      <td>£</td>\n",
       "      <td>44.92</td>\n",
       "    </tr>\n",
       "  </tbody>\n",
       "</table>\n",
       "</div>"
      ],
      "text/plain": [
       "                                  product_name currency  price\n",
       "0  Baileys Strawberries and Cream Liqueur 70cl        £  44.92"
      ]
     },
     "execution_count": 3,
     "metadata": {},
     "output_type": "execute_result"
    }
   ],
   "source": [
    "# scrape the data from html tag from Amazon\n",
    "title = soup2.find(id=\"productTitle\").get_text().strip()[0:]\n",
    "# .strip() helps remove spaces\n",
    "# [:2] take only first 3 characters\n",
    "price_sympol = soup2.find('span', attrs={'class':'a-price-symbol'}).get_text().strip()\n",
    "price_whole = soup2.find('span', attrs={'class':'a-price-whole'}).get_text().strip()[:2]\n",
    "price_fraction = soup2.find('span', attrs={'class':'a-price-fraction'}).get_text().strip()\n",
    "price = price_whole + '.'+ price_fraction\n",
    "\n",
    "# Turn list of product and price into dataframe\n",
    "data = [title, price_sympol, price]\n",
    "df = pd.DataFrame (data).transpose()\n",
    "df.columns = ['product_name', 'currency','price']\n",
    "df"
   ]
  },
  {
   "cell_type": "code",
   "execution_count": 4,
   "id": "b963c447",
   "metadata": {},
   "outputs": [],
   "source": [
    "# scrape data from multiple links of a product categrory from Amazon\n",
    "url_multiple_product = 'https://www.amazon.co.uk/s?k=baileys&crid=1DMV5KY2X7177&sprefix=baileys%2Caps%2C99&ref=nb_sb_noss_1'\n",
    "# # every computer has its unique user agent, can find it from here https://httpbin.org/get\n",
    "headers = {'User-Agent':'Mozilla/5.0 (Windows NT 10.0; Win64; x64) AppleWebKit/537.36 (KHTML, like Gecko) Chrome/112.0.0.0 Safari/537.36'}\n",
    "page2 = requests.get(url_multiple_product, headers= headers)\n",
    "soup3 = BeautifulSoup(page2.content,'html.parser')\n",
    "soup4 = BeautifulSoup(soup3.prettify(),'html.parser')"
   ]
  },
  {
   "cell_type": "code",
   "execution_count": 5,
   "id": "f5425c39",
   "metadata": {},
   "outputs": [
    {
     "data": {
      "text/plain": [
       "<Response [200]>"
      ]
     },
     "execution_count": 5,
     "metadata": {},
     "output_type": "execute_result"
    }
   ],
   "source": [
    "page2"
   ]
  },
  {
   "cell_type": "code",
   "execution_count": 6,
   "id": "bea2643a",
   "metadata": {},
   "outputs": [],
   "source": [
    "# looking for link of each product\n",
    "# in HTML, all Link will be returned inside a tag\n",
    "# scrape the data from html tag from Amazon\n",
    "products_link = soup4.find_all('a',attrs = {'class':'a-link-normal s-underline-text s-underline-link-text s-link-style a-text-normal'})\n",
    "product_link_list =[]\n",
    "# select links only from html tags\n",
    "for i in products_link[:10]:\n",
    "    link_list = list(i.get('href').split(\" \"))\n",
    "# Find out the link for specific product\n",
    "    link_list1 = ['https://www.amazon.co.uk/' + s for s in link_list]\n",
    "    product_link_list.append(link_list1)\n",
    "    "
   ]
  },
  {
   "cell_type": "code",
   "execution_count": 7,
   "id": "4b02edac",
   "metadata": {},
   "outputs": [
    {
     "data": {
      "text/html": [
       "<div>\n",
       "<style scoped>\n",
       "    .dataframe tbody tr th:only-of-type {\n",
       "        vertical-align: middle;\n",
       "    }\n",
       "\n",
       "    .dataframe tbody tr th {\n",
       "        vertical-align: top;\n",
       "    }\n",
       "\n",
       "    .dataframe thead th {\n",
       "        text-align: right;\n",
       "    }\n",
       "</style>\n",
       "<table border=\"1\" class=\"dataframe\">\n",
       "  <thead>\n",
       "    <tr style=\"text-align: right;\">\n",
       "      <th></th>\n",
       "      <th>Product Name</th>\n",
       "      <th>Currency</th>\n",
       "      <th>Price</th>\n",
       "    </tr>\n",
       "  </thead>\n",
       "  <tbody>\n",
       "    <tr>\n",
       "      <th>0</th>\n",
       "      <td>The Ultimate Baileys Irish Cream &amp; Chocolate H...</td>\n",
       "      <td>£</td>\n",
       "      <td>38.99</td>\n",
       "    </tr>\n",
       "    <tr>\n",
       "      <th>1</th>\n",
       "      <td>Baileys Irish Cream 350ml and Baileys Salted C...</td>\n",
       "      <td>£</td>\n",
       "      <td>36.95</td>\n",
       "    </tr>\n",
       "    <tr>\n",
       "      <th>2</th>\n",
       "      <td>Baileys Chocolate Indulgence Hamper presented ...</td>\n",
       "      <td>£</td>\n",
       "      <td>49.95</td>\n",
       "    </tr>\n",
       "    <tr>\n",
       "      <th>3</th>\n",
       "      <td>Baileys Indulgence Food Hamper - Gourmet Food ...</td>\n",
       "      <td>£</td>\n",
       "      <td>62.95</td>\n",
       "    </tr>\n",
       "    <tr>\n",
       "      <th>4</th>\n",
       "      <td>Baileys Original Irish Cream Liqueur 1L</td>\n",
       "      <td>£</td>\n",
       "      <td>19.99</td>\n",
       "    </tr>\n",
       "    <tr>\n",
       "      <th>5</th>\n",
       "      <td>Bailey's The Original Irish Cream Orange Truff...</td>\n",
       "      <td>£</td>\n",
       "      <td>16.49</td>\n",
       "    </tr>\n",
       "    <tr>\n",
       "      <th>6</th>\n",
       "      <td>Baileys Original Irish Cream Liqueur, 70 cl</td>\n",
       "      <td>£</td>\n",
       "      <td>17.75</td>\n",
       "    </tr>\n",
       "    <tr>\n",
       "      <th>7</th>\n",
       "      <td>Baileys Deliciously Light, 70 cl</td>\n",
       "      <td>£</td>\n",
       "      <td>16.50</td>\n",
       "    </tr>\n",
       "    <tr>\n",
       "      <th>8</th>\n",
       "      <td>Baileys Original Irish Cream Liqueur 1L</td>\n",
       "      <td>£</td>\n",
       "      <td>19.99</td>\n",
       "    </tr>\n",
       "    <tr>\n",
       "      <th>9</th>\n",
       "      <td>Baileys Chocolat Luxe Liqueur 50cl</td>\n",
       "      <td>£</td>\n",
       "      <td>17.21</td>\n",
       "    </tr>\n",
       "  </tbody>\n",
       "</table>\n",
       "</div>"
      ],
      "text/plain": [
       "                                        Product Name Currency  Price\n",
       "0  The Ultimate Baileys Irish Cream & Chocolate H...        £  38.99\n",
       "1  Baileys Irish Cream 350ml and Baileys Salted C...        £  36.95\n",
       "2  Baileys Chocolate Indulgence Hamper presented ...        £  49.95\n",
       "3  Baileys Indulgence Food Hamper - Gourmet Food ...        £  62.95\n",
       "4            Baileys Original Irish Cream Liqueur 1L        £  19.99\n",
       "5  Bailey's The Original Irish Cream Orange Truff...        £  16.49\n",
       "6        Baileys Original Irish Cream Liqueur, 70 cl        £  17.75\n",
       "7                   Baileys Deliciously Light, 70 cl        £  16.50\n",
       "8            Baileys Original Irish Cream Liqueur 1L        £  19.99\n",
       "9                 Baileys Chocolat Luxe Liqueur 50cl        £  17.21"
      ]
     },
     "execution_count": 7,
     "metadata": {},
     "output_type": "execute_result"
    }
   ],
   "source": [
    "# connect to website\n",
    "headers = {'User-Agent':'Mozilla/5.0 (Windows NT 10.0; Win64; x64) AppleWebKit/537.36 (KHTML, like Gecko) Chrome/112.0.0.0 Safari/537.36'}\n",
    "\n",
    "# Need to define new lists outside of the loop\n",
    "title_list = []\n",
    "price_list = []\n",
    "currency_list = []\n",
    "\n",
    "for [i] in product_link_list:\n",
    "    page = requests.get(i, headers= headers)\n",
    "    # connect html from Amazon\n",
    "    soup1 = BeautifulSoup(page.content,'html.parser')\n",
    "    soup2 = BeautifulSoup(soup1.prettify(),'html.parser')\n",
    "    title = soup2.find(id=\"productTitle\").get_text().strip()[0:]\n",
    "    \n",
    "    # .strip() helps remove spaces\n",
    "    # [:2] take only first 3 characters\n",
    "    price_sympol = soup2.find('span', attrs={'class':'a-price-symbol'}).get_text().strip()\n",
    "    price_whole = soup2.find('span', attrs={'class':'a-price-whole'}).get_text().strip()[:2]\n",
    "    price_fraction = soup2.find('span', attrs={'class':'a-price-fraction'}).get_text().strip()\n",
    "    price = price_whole + '.'+ price_fraction\n",
    "\n",
    "    title_list.append(title)\n",
    "    price_list.append(price)\n",
    "    currency_list.append(price_sympol)\n",
    "\n",
    "    product_info = pd.DataFrame(\n",
    "        {'Product Name': title_list,\n",
    "         'Currency':currency_list,\n",
    "         'Price': price_list\n",
    "        })\n",
    "product_info\n",
    "\n"
   ]
  }
 ],
 "metadata": {
  "kernelspec": {
   "display_name": "Python 3 (ipykernel)",
   "language": "python",
   "name": "python3"
  },
  "language_info": {
   "codemirror_mode": {
    "name": "ipython",
    "version": 3
   },
   "file_extension": ".py",
   "mimetype": "text/x-python",
   "name": "python",
   "nbconvert_exporter": "python",
   "pygments_lexer": "ipython3",
   "version": "3.10.9"
  }
 },
 "nbformat": 4,
 "nbformat_minor": 5
}
